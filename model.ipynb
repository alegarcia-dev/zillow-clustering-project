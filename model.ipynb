{
 "cells": [
  {
   "cell_type": "markdown",
   "id": "44351b26-a4da-4044-bcca-8b14f89a1961",
   "metadata": {},
   "source": [
    "# Modeling\n",
    "\n",
    "This notebook contains all steps taken in the modeling phase of the data science pipeline for the Zillow clustering project. This notebook does rely on helper files so if you want to run the code blocks in this notebook ensure that you have all the helper files in the same directory.\n",
    "\n",
    "---\n",
    "\n",
    "## The Required Imports\n",
    "\n",
    "As stated before this notebook relies on some helper files which are imported below. This notebook also relies on numpy, pandas, matplotlib, seaborn, and sklearn."
   ]
  },
  {
   "cell_type": "code",
   "execution_count": 1,
   "id": "3f8ef976-66e1-4cf4-8236-a9c9ae41161e",
   "metadata": {},
   "outputs": [],
   "source": [
    "import numpy as np\n",
    "import pandas as pd\n",
    "import matplotlib.pyplot as plt\n",
    "import seaborn as sns\n",
    "\n",
    "from sklearn.linear_model import LinearRegression, LassoLars, TweedieRegressor\n",
    "from sklearn.preprocessing import PolynomialFeatures\n",
    "from sklearn.metrics import mean_squared_error, r2_score\n",
    "from sklearn.feature_selection import RFE\n",
    "from sklearn.pipeline import make_pipeline\n",
    "\n",
    "from acquire import AcquireZillow\n",
    "from prepare import prepare_and_split\n",
    "from preprocessing import *\n",
    "from model import establish_baseline\n",
    "from _model import Model\n",
    "from evaluate import *"
   ]
  },
  {
   "cell_type": "markdown",
   "id": "f11b6e78-ac98-4417-985f-9fd5e56e58f2",
   "metadata": {},
   "source": [
    "---\n",
    "\n",
    "## Acquire and Prepare the Data\n",
    "\n",
    "Let's acquire, prepare, and split the data before we begin."
   ]
  },
  {
   "cell_type": "code",
   "execution_count": 2,
   "id": "e1d90a68-c8fb-4594-812b-9dc79694dcd8",
   "metadata": {},
   "outputs": [
    {
     "name": "stderr",
     "output_type": "stream",
     "text": [
      "/Users/peanutbutterandchocolate/codeup-data-science/methodologies/zillow-clustering-project/_acquire.py:95: DtypeWarning: Columns (64) have mixed types.Specify dtype option on import or set low_memory=False.\n",
      "  df = self._load_data(use_cache, cache_data)\n",
      "/Users/peanutbutterandchocolate/codeup-data-science/methodologies/zillow-clustering-project/prepare.py:74: SettingWithCopyWarning: \n",
      "A value is trying to be set on a copy of a slice from a DataFrame.\n",
      "Try using .loc[row_indexer,col_indexer] = value instead\n",
      "\n",
      "See the caveats in the documentation: https://pandas.pydata.org/pandas-docs/stable/user_guide/indexing.html#returning-a-view-versus-a-copy\n",
      "  test['cluster'] = kmeans.predict(test[columns])\n",
      "/opt/homebrew/anaconda3/lib/python3.9/site-packages/pandas/core/generic.py:5516: SettingWithCopyWarning: \n",
      "A value is trying to be set on a copy of a slice from a DataFrame.\n",
      "Try using .loc[row_indexer,col_indexer] = value instead\n",
      "\n",
      "See the caveats in the documentation: https://pandas.pydata.org/pandas-docs/stable/user_guide/indexing.html#returning-a-view-versus-a-copy\n",
      "  self[name] = value\n"
     ]
    },
    {
     "data": {
      "text/plain": [
       "((34867, 12), (14943, 11), (12453, 12))"
      ]
     },
     "execution_count": 2,
     "metadata": {},
     "output_type": "execute_result"
    }
   ],
   "source": [
    "# Let's acquire and prepare the data.\n",
    "train, validate, test = prepare_and_split(AcquireZillow().get_data())\n",
    "train.shape, validate.shape, test.shape"
   ]
  },
  {
   "cell_type": "code",
   "execution_count": 3,
   "id": "20ea3208-15fc-4dd2-b3f0-add28fe3c9ec",
   "metadata": {},
   "outputs": [
    {
     "name": "stdout",
     "output_type": "stream",
     "text": [
      "<class 'pandas.core.frame.DataFrame'>\n",
      "Int64Index: 34867 entries, 68462 to 5796\n",
      "Data columns (total 12 columns):\n",
      " #   Column                Non-Null Count  Dtype   \n",
      "---  ------                --------------  -----   \n",
      " 0   square_feet           34867 non-null  float64 \n",
      " 1   lot_size              34867 non-null  float64 \n",
      " 2   property_age          34867 non-null  float64 \n",
      " 3   non_average_zip_code  34867 non-null  bool    \n",
      " 4   logerror              34867 non-null  float64 \n",
      " 5   bathroomcnt           34867 non-null  float64 \n",
      " 6   bedroomcnt            34867 non-null  float64 \n",
      " 7   tax_assessed_value    34867 non-null  float64 \n",
      " 8   cluster               34867 non-null  category\n",
      " 9   cluster_1             34867 non-null  uint8   \n",
      " 10  cluster_2             34867 non-null  uint8   \n",
      " 11  cluster_3             34867 non-null  uint8   \n",
      "dtypes: bool(1), category(1), float64(7), uint8(3)\n",
      "memory usage: 2.3 MB\n"
     ]
    }
   ],
   "source": [
    "train.info()"
   ]
  },
  {
   "cell_type": "code",
   "execution_count": 4,
   "id": "93de3806-de76-4329-96f6-66f6c3365072",
   "metadata": {},
   "outputs": [
    {
     "name": "stdout",
     "output_type": "stream",
     "text": [
      "<class 'pandas.core.frame.DataFrame'>\n",
      "Int64Index: 14943 entries, 55436 to 38305\n",
      "Data columns (total 11 columns):\n",
      " #   Column                Non-Null Count  Dtype   \n",
      "---  ------                --------------  -----   \n",
      " 0   square_feet           14943 non-null  float64 \n",
      " 1   lot_size              14943 non-null  float64 \n",
      " 2   property_age          14943 non-null  float64 \n",
      " 3   non_average_zip_code  14943 non-null  bool    \n",
      " 4   logerror              14943 non-null  float64 \n",
      " 5   bathroomcnt           14943 non-null  float64 \n",
      " 6   bedroomcnt            14943 non-null  float64 \n",
      " 7   tax_assessed_value    14943 non-null  float64 \n",
      " 8   cluster               14943 non-null  category\n",
      " 9   cluster_2             14943 non-null  uint8   \n",
      " 10  cluster_3             14943 non-null  uint8   \n",
      "dtypes: bool(1), category(1), float64(7), uint8(2)\n",
      "memory usage: 992.4 KB\n"
     ]
    }
   ],
   "source": [
    "validate.info()"
   ]
  },
  {
   "cell_type": "code",
   "execution_count": 5,
   "id": "ff6fe960-2a7f-40a0-934f-e4e0473b4595",
   "metadata": {},
   "outputs": [],
   "source": [
    "# Somehow there was no data from validate in cluster 1. So we must create by hand.\n",
    "validate['cluster_1'] = 0"
   ]
  },
  {
   "cell_type": "code",
   "execution_count": 6,
   "id": "482ee591-3bb8-4a01-87a6-770765b1822d",
   "metadata": {},
   "outputs": [
    {
     "name": "stdout",
     "output_type": "stream",
     "text": [
      "<class 'pandas.core.frame.DataFrame'>\n",
      "Int64Index: 12453 entries, 17178 to 20860\n",
      "Data columns (total 12 columns):\n",
      " #   Column                Non-Null Count  Dtype   \n",
      "---  ------                --------------  -----   \n",
      " 0   square_feet           12453 non-null  float64 \n",
      " 1   lot_size              12453 non-null  float64 \n",
      " 2   property_age          12453 non-null  float64 \n",
      " 3   non_average_zip_code  12453 non-null  bool    \n",
      " 4   logerror              12453 non-null  float64 \n",
      " 5   bathroomcnt           12453 non-null  float64 \n",
      " 6   bedroomcnt            12453 non-null  float64 \n",
      " 7   tax_assessed_value    12453 non-null  float64 \n",
      " 8   cluster               12453 non-null  category\n",
      " 9   cluster_1             12453 non-null  uint8   \n",
      " 10  cluster_2             12453 non-null  uint8   \n",
      " 11  cluster_3             12453 non-null  uint8   \n",
      "dtypes: bool(1), category(1), float64(7), uint8(3)\n",
      "memory usage: 839.3 KB\n"
     ]
    }
   ],
   "source": [
    "test.info()"
   ]
  },
  {
   "cell_type": "markdown",
   "id": "0de93dd0-e9b1-4380-85c9-2fb127e6c262",
   "metadata": {},
   "source": [
    "## Modeling\n",
    "\n",
    "We identified in exploration that the features square_feet, property_age, zip_code, and tax_assessed_value may have relationships with logerror. We'll use these as well as the clusters in our models. We will create a linear regression, polynomial regression, and tweedie regressor models with and without the clusters."
   ]
  },
  {
   "cell_type": "code",
   "execution_count": 7,
   "id": "45b5004e-848c-408b-95ff-104dc1dc4bec",
   "metadata": {},
   "outputs": [],
   "source": [
    "# First we must remove outliers and scale the data.\n",
    "train_no_outliers = remove_outliers(train, 1.5, ['square_feet', 'tax_assessed_value'])\n",
    "train_scaled, validate_scaled, test_scaled = scale_data(\n",
    "    train,\n",
    "    validate,\n",
    "    test,\n",
    "    train.drop(columns = 'logerror').columns\n",
    ")\n",
    "\n",
    "train_scaled_no_outliers = remove_outliers(train_no_outliers, 1.5, ['square_feet', 'tax_assessed_value'])"
   ]
  },
  {
   "cell_type": "code",
   "execution_count": 8,
   "id": "0cd8aa3c-2f2e-42c0-b034-b8dd7c730b4c",
   "metadata": {},
   "outputs": [
    {
     "data": {
      "text/html": [
       "<div>\n",
       "<style scoped>\n",
       "    .dataframe tbody tr th:only-of-type {\n",
       "        vertical-align: middle;\n",
       "    }\n",
       "\n",
       "    .dataframe tbody tr th {\n",
       "        vertical-align: top;\n",
       "    }\n",
       "\n",
       "    .dataframe thead th {\n",
       "        text-align: right;\n",
       "    }\n",
       "</style>\n",
       "<table border=\"1\" class=\"dataframe\">\n",
       "  <thead>\n",
       "    <tr style=\"text-align: right;\">\n",
       "      <th></th>\n",
       "      <th>count</th>\n",
       "      <th>mean</th>\n",
       "      <th>std</th>\n",
       "      <th>min</th>\n",
       "      <th>25%</th>\n",
       "      <th>50%</th>\n",
       "      <th>75%</th>\n",
       "      <th>max</th>\n",
       "    </tr>\n",
       "  </thead>\n",
       "  <tbody>\n",
       "    <tr>\n",
       "      <th>square_feet</th>\n",
       "      <td>34867.0</td>\n",
       "      <td>0.106810</td>\n",
       "      <td>0.060679</td>\n",
       "      <td>0.00000</td>\n",
       "      <td>0.067983</td>\n",
       "      <td>0.090862</td>\n",
       "      <td>0.128448</td>\n",
       "      <td>1.000000</td>\n",
       "    </tr>\n",
       "    <tr>\n",
       "      <th>lot_size</th>\n",
       "      <td>34867.0</td>\n",
       "      <td>0.004292</td>\n",
       "      <td>0.018695</td>\n",
       "      <td>0.00000</td>\n",
       "      <td>0.000774</td>\n",
       "      <td>0.000983</td>\n",
       "      <td>0.001682</td>\n",
       "      <td>1.000000</td>\n",
       "    </tr>\n",
       "    <tr>\n",
       "      <th>property_age</th>\n",
       "      <td>34867.0</td>\n",
       "      <td>0.364767</td>\n",
       "      <td>0.169167</td>\n",
       "      <td>0.00000</td>\n",
       "      <td>0.233083</td>\n",
       "      <td>0.375940</td>\n",
       "      <td>0.473684</td>\n",
       "      <td>1.000000</td>\n",
       "    </tr>\n",
       "    <tr>\n",
       "      <th>non_average_zip_code</th>\n",
       "      <td>34867.0</td>\n",
       "      <td>0.129865</td>\n",
       "      <td>0.336160</td>\n",
       "      <td>0.00000</td>\n",
       "      <td>0.000000</td>\n",
       "      <td>0.000000</td>\n",
       "      <td>0.000000</td>\n",
       "      <td>1.000000</td>\n",
       "    </tr>\n",
       "    <tr>\n",
       "      <th>logerror</th>\n",
       "      <td>34867.0</td>\n",
       "      <td>0.016868</td>\n",
       "      <td>0.164812</td>\n",
       "      <td>-4.65542</td>\n",
       "      <td>-0.024592</td>\n",
       "      <td>0.006469</td>\n",
       "      <td>0.038968</td>\n",
       "      <td>5.262999</td>\n",
       "    </tr>\n",
       "    <tr>\n",
       "      <th>bathroomcnt</th>\n",
       "      <td>34867.0</td>\n",
       "      <td>0.141272</td>\n",
       "      <td>0.105962</td>\n",
       "      <td>0.00000</td>\n",
       "      <td>0.111111</td>\n",
       "      <td>0.111111</td>\n",
       "      <td>0.222222</td>\n",
       "      <td>1.000000</td>\n",
       "    </tr>\n",
       "    <tr>\n",
       "      <th>bedroomcnt</th>\n",
       "      <td>34867.0</td>\n",
       "      <td>0.281024</td>\n",
       "      <td>0.090989</td>\n",
       "      <td>0.00000</td>\n",
       "      <td>0.181818</td>\n",
       "      <td>0.272727</td>\n",
       "      <td>0.363636</td>\n",
       "      <td>1.000000</td>\n",
       "    </tr>\n",
       "    <tr>\n",
       "      <th>tax_assessed_value</th>\n",
       "      <td>34867.0</td>\n",
       "      <td>0.019166</td>\n",
       "      <td>0.025780</td>\n",
       "      <td>0.00000</td>\n",
       "      <td>0.007660</td>\n",
       "      <td>0.013748</td>\n",
       "      <td>0.022475</td>\n",
       "      <td>1.000000</td>\n",
       "    </tr>\n",
       "    <tr>\n",
       "      <th>cluster</th>\n",
       "      <td>34867.0</td>\n",
       "      <td>0.017543</td>\n",
       "      <td>0.107621</td>\n",
       "      <td>0.00000</td>\n",
       "      <td>0.000000</td>\n",
       "      <td>0.000000</td>\n",
       "      <td>0.000000</td>\n",
       "      <td>1.000000</td>\n",
       "    </tr>\n",
       "    <tr>\n",
       "      <th>cluster_1</th>\n",
       "      <td>34867.0</td>\n",
       "      <td>0.000143</td>\n",
       "      <td>0.011974</td>\n",
       "      <td>0.00000</td>\n",
       "      <td>0.000000</td>\n",
       "      <td>0.000000</td>\n",
       "      <td>0.000000</td>\n",
       "      <td>1.000000</td>\n",
       "    </tr>\n",
       "    <tr>\n",
       "      <th>cluster_2</th>\n",
       "      <td>34867.0</td>\n",
       "      <td>0.025296</td>\n",
       "      <td>0.157025</td>\n",
       "      <td>0.00000</td>\n",
       "      <td>0.000000</td>\n",
       "      <td>0.000000</td>\n",
       "      <td>0.000000</td>\n",
       "      <td>1.000000</td>\n",
       "    </tr>\n",
       "    <tr>\n",
       "      <th>cluster_3</th>\n",
       "      <td>34867.0</td>\n",
       "      <td>0.000631</td>\n",
       "      <td>0.025112</td>\n",
       "      <td>0.00000</td>\n",
       "      <td>0.000000</td>\n",
       "      <td>0.000000</td>\n",
       "      <td>0.000000</td>\n",
       "      <td>1.000000</td>\n",
       "    </tr>\n",
       "  </tbody>\n",
       "</table>\n",
       "</div>"
      ],
      "text/plain": [
       "                        count      mean       std      min       25%  \\\n",
       "square_feet           34867.0  0.106810  0.060679  0.00000  0.067983   \n",
       "lot_size              34867.0  0.004292  0.018695  0.00000  0.000774   \n",
       "property_age          34867.0  0.364767  0.169167  0.00000  0.233083   \n",
       "non_average_zip_code  34867.0  0.129865  0.336160  0.00000  0.000000   \n",
       "logerror              34867.0  0.016868  0.164812 -4.65542 -0.024592   \n",
       "bathroomcnt           34867.0  0.141272  0.105962  0.00000  0.111111   \n",
       "bedroomcnt            34867.0  0.281024  0.090989  0.00000  0.181818   \n",
       "tax_assessed_value    34867.0  0.019166  0.025780  0.00000  0.007660   \n",
       "cluster               34867.0  0.017543  0.107621  0.00000  0.000000   \n",
       "cluster_1             34867.0  0.000143  0.011974  0.00000  0.000000   \n",
       "cluster_2             34867.0  0.025296  0.157025  0.00000  0.000000   \n",
       "cluster_3             34867.0  0.000631  0.025112  0.00000  0.000000   \n",
       "\n",
       "                           50%       75%       max  \n",
       "square_feet           0.090862  0.128448  1.000000  \n",
       "lot_size              0.000983  0.001682  1.000000  \n",
       "property_age          0.375940  0.473684  1.000000  \n",
       "non_average_zip_code  0.000000  0.000000  1.000000  \n",
       "logerror              0.006469  0.038968  5.262999  \n",
       "bathroomcnt           0.111111  0.222222  1.000000  \n",
       "bedroomcnt            0.272727  0.363636  1.000000  \n",
       "tax_assessed_value    0.013748  0.022475  1.000000  \n",
       "cluster               0.000000  0.000000  1.000000  \n",
       "cluster_1             0.000000  0.000000  1.000000  \n",
       "cluster_2             0.000000  0.000000  1.000000  \n",
       "cluster_3             0.000000  0.000000  1.000000  "
      ]
     },
     "execution_count": 8,
     "metadata": {},
     "output_type": "execute_result"
    }
   ],
   "source": [
    "train_scaled.describe().T"
   ]
  },
  {
   "cell_type": "code",
   "execution_count": 9,
   "id": "076d3bb7-b61c-42bc-9216-1d36f08eb077",
   "metadata": {},
   "outputs": [],
   "source": [
    "models = []\n",
    "results = {}"
   ]
  },
  {
   "cell_type": "markdown",
   "id": "916047d5-3d3b-4c73-a1fe-559f8cb0d343",
   "metadata": {},
   "source": [
    "### Establish Baseline\n",
    "\n",
    "Let's establish a baseline model to compare our models to."
   ]
  },
  {
   "cell_type": "code",
   "execution_count": 10,
   "id": "dc70ee1c-fdd8-4184-b08a-a97c53b2297f",
   "metadata": {},
   "outputs": [
    {
     "data": {
      "text/plain": [
       "0.16481013354498159"
      ]
     },
     "execution_count": 10,
     "metadata": {},
     "output_type": "execute_result"
    }
   ],
   "source": [
    "baseline = establish_baseline(train[['logerror']])\n",
    "mean_squared_error(train[['logerror']], baseline, squared = False)"
   ]
  },
  {
   "cell_type": "code",
   "execution_count": 11,
   "id": "a5d5f20a-7037-4d93-b6d5-5a828f23fcc5",
   "metadata": {},
   "outputs": [],
   "source": [
    "results['baseline'] = {'RMSE' : mean_squared_error(train[['logerror']], baseline, squared = False)}"
   ]
  },
  {
   "cell_type": "markdown",
   "id": "916e35b9-8bff-4b61-bbf3-23fd087f1717",
   "metadata": {},
   "source": [
    "### Linear Regression Without Clusters"
   ]
  },
  {
   "cell_type": "code",
   "execution_count": 12,
   "id": "228c016d-32d0-4a96-b200-50d09610af62",
   "metadata": {},
   "outputs": [],
   "source": [
    "features = [\n",
    "    'square_feet',\n",
    "    'property_age',\n",
    "    'non_average_zip_code',\n",
    "    'tax_assessed_value'\n",
    "]\n",
    "\n",
    "lr = Model(LinearRegression(), train_scaled_no_outliers, features, 'logerror')"
   ]
  },
  {
   "cell_type": "code",
   "execution_count": 13,
   "id": "63cdc9e6-b007-4d9b-b6f3-86768f9d38cb",
   "metadata": {},
   "outputs": [
    {
     "data": {
      "text/plain": [
       "0.16476388979922255"
      ]
     },
     "execution_count": 13,
     "metadata": {},
     "output_type": "execute_result"
    }
   ],
   "source": [
    "mean_squared_error(train[['logerror']], lr.make_predictions(train_scaled), squared = False)"
   ]
  },
  {
   "cell_type": "code",
   "execution_count": 14,
   "id": "fa4a65e9-d060-4031-8773-6016bb3ca294",
   "metadata": {},
   "outputs": [],
   "source": [
    "results['linear_regression_no_clusters'] = {\n",
    "    'RMSE' : mean_squared_error(train[['logerror']], lr.make_predictions(train_scaled), squared = False),\n",
    "    'RMSE_val' : mean_squared_error(validate[['logerror']], lr.make_predictions(validate_scaled), squared = False)\n",
    "}\n",
    "\n",
    "models.append(lr)"
   ]
  },
  {
   "cell_type": "markdown",
   "id": "d9c05c89-8970-4e3b-8acf-c4dfe48974f9",
   "metadata": {},
   "source": [
    "### Tweedie Regressor Without Clusters"
   ]
  },
  {
   "cell_type": "code",
   "execution_count": 15,
   "id": "f16b282d-a280-4d5e-9dc7-1a2f4c0c412c",
   "metadata": {},
   "outputs": [],
   "source": [
    "tr = Model(TweedieRegressor(), train_scaled_no_outliers, features, 'logerror')"
   ]
  },
  {
   "cell_type": "code",
   "execution_count": 16,
   "id": "10437f79-ab69-4bf7-bca5-fe90b46f5cd4",
   "metadata": {},
   "outputs": [
    {
     "data": {
      "text/plain": [
       "0.16478990500501559"
      ]
     },
     "execution_count": 16,
     "metadata": {},
     "output_type": "execute_result"
    }
   ],
   "source": [
    "mean_squared_error(train[['logerror']], tr.make_predictions(train_scaled), squared = False)"
   ]
  },
  {
   "cell_type": "code",
   "execution_count": 17,
   "id": "815bb4b6-356e-4cd6-8c42-6ddbe92ccb60",
   "metadata": {},
   "outputs": [],
   "source": [
    "results['tweedie_regressor_no_clusters'] = {\n",
    "    'RMSE' : mean_squared_error(train[['logerror']], tr.make_predictions(train_scaled), squared = False),\n",
    "    'RMSE_val' : mean_squared_error(validate[['logerror']], tr.make_predictions(validate_scaled), squared = False)\n",
    "}\n",
    "\n",
    "models.append(tr)"
   ]
  },
  {
   "cell_type": "markdown",
   "id": "9bea6cbf-b004-40b9-8085-8aa35e70edc9",
   "metadata": {},
   "source": [
    "### Polynomial Regression Without Clusters"
   ]
  },
  {
   "cell_type": "code",
   "execution_count": 18,
   "id": "e52e4251-6e91-4df6-9ec0-5740b6ee6b43",
   "metadata": {},
   "outputs": [],
   "source": [
    "poly_reg = make_pipeline(\n",
    "    PolynomialFeatures(include_bias = False),\n",
    "    LinearRegression()\n",
    ")\n",
    "pr = Model(poly_reg, train_scaled_no_outliers, features, 'logerror')"
   ]
  },
  {
   "cell_type": "code",
   "execution_count": 19,
   "id": "fc7b3223-5fe5-42f7-b371-36279daf13b8",
   "metadata": {},
   "outputs": [
    {
     "data": {
      "text/plain": [
       "0.1649828469247726"
      ]
     },
     "execution_count": 19,
     "metadata": {},
     "output_type": "execute_result"
    }
   ],
   "source": [
    "mean_squared_error(train[['logerror']], pr.make_predictions(train_scaled), squared = False)"
   ]
  },
  {
   "cell_type": "code",
   "execution_count": 20,
   "id": "896f9dd9-2a74-4fff-b483-f1ca4ad540e8",
   "metadata": {},
   "outputs": [],
   "source": [
    "results['polynomial_regression_no_clusters'] = {\n",
    "    'RMSE' : mean_squared_error(train[['logerror']], pr.make_predictions(train_scaled), squared = False),\n",
    "    'RMSE_val' : mean_squared_error(validate[['logerror']], pr.make_predictions(validate_scaled), squared = False)\n",
    "}\n",
    "\n",
    "models.append(pr)"
   ]
  },
  {
   "cell_type": "markdown",
   "id": "6e89cdba-317d-417f-abdd-d30a269e0317",
   "metadata": {},
   "source": [
    "### Polynomial Regression Interactions Only Without Clusters"
   ]
  },
  {
   "cell_type": "code",
   "execution_count": 21,
   "id": "b68ba958-6504-479a-9386-82a07ae2cb75",
   "metadata": {},
   "outputs": [],
   "source": [
    "poly_reg = make_pipeline(\n",
    "    PolynomialFeatures(include_bias = False, interaction_only = True),\n",
    "    LinearRegression()\n",
    ")\n",
    "pr = Model(poly_reg, train_scaled_no_outliers, features, 'logerror')"
   ]
  },
  {
   "cell_type": "code",
   "execution_count": 22,
   "id": "dad1fec8-f0d9-40d4-9f74-ea0a4cb3718c",
   "metadata": {},
   "outputs": [
    {
     "data": {
      "text/plain": [
       "0.16546501480244352"
      ]
     },
     "execution_count": 22,
     "metadata": {},
     "output_type": "execute_result"
    }
   ],
   "source": [
    "mean_squared_error(train[['logerror']], pr.make_predictions(train_scaled), squared = False)"
   ]
  },
  {
   "cell_type": "code",
   "execution_count": 23,
   "id": "680d3047-e764-4a86-b963-a3aab57e9694",
   "metadata": {},
   "outputs": [],
   "source": [
    "results['polynomial_regression_interactions_only_no_clusters'] = {\n",
    "    'RMSE' : mean_squared_error(train[['logerror']], pr.make_predictions(train_scaled), squared = False),\n",
    "    'RMSE_val' : mean_squared_error(validate[['logerror']], pr.make_predictions(validate_scaled), squared = False)\n",
    "}\n",
    "\n",
    "models.append(pr)"
   ]
  },
  {
   "cell_type": "markdown",
   "id": "cae315a4-fc13-47f5-95d5-cf45a859d9a7",
   "metadata": {},
   "source": [
    "### Linear Regression With Clusters"
   ]
  },
  {
   "cell_type": "code",
   "execution_count": 24,
   "id": "574722d8-d0f4-4e65-95f7-30f5ecf518fe",
   "metadata": {},
   "outputs": [],
   "source": [
    "features = [\n",
    "    'square_feet',\n",
    "    'non_average_zip_code',\n",
    "    'tax_assessed_value',\n",
    "    'cluster_1',\n",
    "    'cluster_2',\n",
    "    'cluster_3'\n",
    "]\n",
    "\n",
    "lr = Model(LinearRegression(), train_scaled_no_outliers, features, 'logerror')"
   ]
  },
  {
   "cell_type": "code",
   "execution_count": 25,
   "id": "dca1beb7-9f72-4a9f-b936-c1a7fc3f0d5b",
   "metadata": {},
   "outputs": [
    {
     "data": {
      "text/plain": [
       "0.16465408125693634"
      ]
     },
     "execution_count": 25,
     "metadata": {},
     "output_type": "execute_result"
    }
   ],
   "source": [
    "mean_squared_error(train[['logerror']], lr.make_predictions(train_scaled), squared = False)"
   ]
  },
  {
   "cell_type": "code",
   "execution_count": 26,
   "id": "27c65614-65d1-4598-ae70-146d2578b134",
   "metadata": {},
   "outputs": [],
   "source": [
    "results['linear_regression_with_clusters'] = {\n",
    "    'RMSE' : mean_squared_error(train[['logerror']], lr.make_predictions(train_scaled), squared = False),\n",
    "    'RMSE_val' : mean_squared_error(validate[['logerror']], lr.make_predictions(validate_scaled), squared = False)\n",
    "}\n",
    "\n",
    "models.append(lr)"
   ]
  },
  {
   "cell_type": "markdown",
   "id": "fbaad83b-ba1a-47df-a9ef-ac3b85d8002b",
   "metadata": {},
   "source": [
    "### Tweedie Regressor With Clusters"
   ]
  },
  {
   "cell_type": "code",
   "execution_count": 27,
   "id": "5d572bfc-1251-4565-b77a-e737b58c7403",
   "metadata": {},
   "outputs": [],
   "source": [
    "tr = Model(TweedieRegressor(), train_scaled_no_outliers, features, 'logerror')"
   ]
  },
  {
   "cell_type": "code",
   "execution_count": 28,
   "id": "2c2b34b0-2614-4e4e-92d7-15d6de5091e9",
   "metadata": {},
   "outputs": [
    {
     "data": {
      "text/plain": [
       "0.16481587014464205"
      ]
     },
     "execution_count": 28,
     "metadata": {},
     "output_type": "execute_result"
    }
   ],
   "source": [
    "mean_squared_error(train[['logerror']], tr.make_predictions(train_scaled), squared = False)"
   ]
  },
  {
   "cell_type": "code",
   "execution_count": 29,
   "id": "6929a295-8e9f-4472-98ff-410de84ac259",
   "metadata": {},
   "outputs": [],
   "source": [
    "results['tweedie_regressor_with_clusters'] = {\n",
    "    'RMSE' : mean_squared_error(train[['logerror']], tr.make_predictions(train_scaled), squared = False),\n",
    "    'RMSE_val' : mean_squared_error(validate[['logerror']], tr.make_predictions(validate_scaled), squared = False)\n",
    "}\n",
    "\n",
    "models.append(tr)"
   ]
  },
  {
   "cell_type": "markdown",
   "id": "370cc613-9382-4fe7-b9d7-005b060cf23d",
   "metadata": {},
   "source": [
    "### Polynomial Regression With Clusters"
   ]
  },
  {
   "cell_type": "code",
   "execution_count": 30,
   "id": "804e9287-ae59-4e3e-a32c-21d2b16d463e",
   "metadata": {},
   "outputs": [],
   "source": [
    "poly_reg = make_pipeline(\n",
    "    PolynomialFeatures(include_bias = False),\n",
    "    LinearRegression()\n",
    ")\n",
    "pr = Model(poly_reg, train_scaled_no_outliers, features, 'logerror')"
   ]
  },
  {
   "cell_type": "code",
   "execution_count": 31,
   "id": "702541f5-e5ce-4adc-a6bf-9acffa3c4e0a",
   "metadata": {},
   "outputs": [
    {
     "data": {
      "text/plain": [
       "0.1711358227596668"
      ]
     },
     "execution_count": 31,
     "metadata": {},
     "output_type": "execute_result"
    }
   ],
   "source": [
    "mean_squared_error(train[['logerror']], pr.make_predictions(train_scaled), squared = False)"
   ]
  },
  {
   "cell_type": "code",
   "execution_count": 32,
   "id": "e1d9ec39-ba44-4e87-8026-ab3e24cde573",
   "metadata": {},
   "outputs": [],
   "source": [
    "results['polynomial_regression_with_clusters'] = {\n",
    "    'RMSE' : mean_squared_error(train[['logerror']], pr.make_predictions(train_scaled), squared = False),\n",
    "    'RMSE_val' : mean_squared_error(validate[['logerror']], pr.make_predictions(validate_scaled), squared = False)\n",
    "}\n",
    "\n",
    "models.append(pr)"
   ]
  },
  {
   "cell_type": "markdown",
   "id": "bad78f2d-ac69-4635-a752-b211a26287b4",
   "metadata": {},
   "source": [
    "### Polynomials Regression Interactions Only With Clusters"
   ]
  },
  {
   "cell_type": "code",
   "execution_count": 33,
   "id": "0baf1b23-f2c5-4ac5-9ff9-d4f8b48c02b3",
   "metadata": {},
   "outputs": [],
   "source": [
    "poly_reg = make_pipeline(\n",
    "    PolynomialFeatures(include_bias = False, interaction_only = True),\n",
    "    LinearRegression()\n",
    ")\n",
    "pr = Model(poly_reg, train_scaled_no_outliers, features, 'logerror')"
   ]
  },
  {
   "cell_type": "code",
   "execution_count": 34,
   "id": "1708e31b-a096-4f26-848c-121f7cc3a016",
   "metadata": {},
   "outputs": [
    {
     "data": {
      "text/plain": [
       "0.1708039807187697"
      ]
     },
     "execution_count": 34,
     "metadata": {},
     "output_type": "execute_result"
    }
   ],
   "source": [
    "mean_squared_error(train[['logerror']], pr.make_predictions(train_scaled), squared = False)"
   ]
  },
  {
   "cell_type": "code",
   "execution_count": 35,
   "id": "f78010f1-64ba-4577-85cf-1247ee87b5ac",
   "metadata": {},
   "outputs": [],
   "source": [
    "results['polynomial_regression_interactions_only_with_clusters'] = {\n",
    "    'RMSE' : mean_squared_error(train[['logerror']], pr.make_predictions(train_scaled), squared = False),\n",
    "    'RMSE_val' : mean_squared_error(validate[['logerror']], pr.make_predictions(validate_scaled), squared = False)\n",
    "}\n",
    "\n",
    "models.append(pr)"
   ]
  },
  {
   "cell_type": "markdown",
   "id": "6eefd7ae-e897-4111-924d-cfe4bfcde231",
   "metadata": {},
   "source": [
    "---\n",
    "\n",
    "## Results"
   ]
  },
  {
   "cell_type": "code",
   "execution_count": 36,
   "id": "d2dd12cd-97a7-4f57-848e-f38ee219ad03",
   "metadata": {},
   "outputs": [
    {
     "data": {
      "text/html": [
       "<div>\n",
       "<style scoped>\n",
       "    .dataframe tbody tr th:only-of-type {\n",
       "        vertical-align: middle;\n",
       "    }\n",
       "\n",
       "    .dataframe tbody tr th {\n",
       "        vertical-align: top;\n",
       "    }\n",
       "\n",
       "    .dataframe thead th {\n",
       "        text-align: right;\n",
       "    }\n",
       "</style>\n",
       "<table border=\"1\" class=\"dataframe\">\n",
       "  <thead>\n",
       "    <tr style=\"text-align: right;\">\n",
       "      <th></th>\n",
       "      <th>RMSE</th>\n",
       "      <th>RMSE_val</th>\n",
       "    </tr>\n",
       "  </thead>\n",
       "  <tbody>\n",
       "    <tr>\n",
       "      <th>baseline</th>\n",
       "      <td>0.164810</td>\n",
       "      <td>NaN</td>\n",
       "    </tr>\n",
       "    <tr>\n",
       "      <th>linear_regression_no_clusters</th>\n",
       "      <td>0.164764</td>\n",
       "      <td>0.167628</td>\n",
       "    </tr>\n",
       "    <tr>\n",
       "      <th>tweedie_regressor_no_clusters</th>\n",
       "      <td>0.164790</td>\n",
       "      <td>0.167462</td>\n",
       "    </tr>\n",
       "    <tr>\n",
       "      <th>polynomial_regression_no_clusters</th>\n",
       "      <td>0.164983</td>\n",
       "      <td>0.167543</td>\n",
       "    </tr>\n",
       "    <tr>\n",
       "      <th>polynomial_regression_interactions_only_no_clusters</th>\n",
       "      <td>0.165465</td>\n",
       "      <td>0.167988</td>\n",
       "    </tr>\n",
       "    <tr>\n",
       "      <th>linear_regression_with_clusters</th>\n",
       "      <td>0.164654</td>\n",
       "      <td>0.167500</td>\n",
       "    </tr>\n",
       "    <tr>\n",
       "      <th>tweedie_regressor_with_clusters</th>\n",
       "      <td>0.164816</td>\n",
       "      <td>0.167487</td>\n",
       "    </tr>\n",
       "    <tr>\n",
       "      <th>polynomial_regression_with_clusters</th>\n",
       "      <td>0.171136</td>\n",
       "      <td>0.169414</td>\n",
       "    </tr>\n",
       "    <tr>\n",
       "      <th>polynomial_regression_interactions_only_with_clusters</th>\n",
       "      <td>0.170804</td>\n",
       "      <td>0.169074</td>\n",
       "    </tr>\n",
       "  </tbody>\n",
       "</table>\n",
       "</div>"
      ],
      "text/plain": [
       "                                                        RMSE  RMSE_val\n",
       "baseline                                            0.164810       NaN\n",
       "linear_regression_no_clusters                       0.164764  0.167628\n",
       "tweedie_regressor_no_clusters                       0.164790  0.167462\n",
       "polynomial_regression_no_clusters                   0.164983  0.167543\n",
       "polynomial_regression_interactions_only_no_clus...  0.165465  0.167988\n",
       "linear_regression_with_clusters                     0.164654  0.167500\n",
       "tweedie_regressor_with_clusters                     0.164816  0.167487\n",
       "polynomial_regression_with_clusters                 0.171136  0.169414\n",
       "polynomial_regression_interactions_only_with_cl...  0.170804  0.169074"
      ]
     },
     "execution_count": 36,
     "metadata": {},
     "output_type": "execute_result"
    }
   ],
   "source": [
    "pd.DataFrame(results).T"
   ]
  },
  {
   "cell_type": "markdown",
   "id": "04b208d4-3ce6-4795-82f3-e822b23ad42a",
   "metadata": {},
   "source": [
    "---\n",
    "\n",
    "## Conclusion\n",
    "\n",
    "Adding clusters to the model made a small improvement for the linear regression model, but did not help any of the other models. Additionally, none of these models performs much better than the baseline."
   ]
  }
 ],
 "metadata": {
  "kernelspec": {
   "display_name": "Python 3 (ipykernel)",
   "language": "python",
   "name": "python3"
  },
  "language_info": {
   "codemirror_mode": {
    "name": "ipython",
    "version": 3
   },
   "file_extension": ".py",
   "mimetype": "text/x-python",
   "name": "python",
   "nbconvert_exporter": "python",
   "pygments_lexer": "ipython3",
   "version": "3.9.7"
  }
 },
 "nbformat": 4,
 "nbformat_minor": 5
}
