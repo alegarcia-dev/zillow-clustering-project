{
 "cells": [
  {
   "cell_type": "markdown",
   "id": "528dbd6f-4b91-4743-b51b-5a75c9a5190e",
   "metadata": {},
   "source": [
    "# Acquire and Prepare\n",
    "\n",
    "---\n",
    "\n",
    "This notebook contains all steps taken in the data acquisition and preparation phases of the data science pipeline for the Zillow clustering project. This notebook does rely on helper files so if you want to run the code blocks in this notebook ensure that you have all the helper files in the same directory.\n",
    "\n",
    "---\n",
    "\n",
    "## The Required Imports\n",
    "\n",
    "As stated before this notebook relies on some helper files which are imported below. This notebook also relies on numpy, pandas, matplotlib, seaborn, and sklearn."
   ]
  },
  {
   "cell_type": "code",
   "execution_count": 1,
   "id": "e2587902-d745-451b-b425-9f5f71d75df7",
   "metadata": {},
   "outputs": [],
   "source": [
    "import numpy as np\n",
    "import pandas as pd\n",
    "import matplotlib.pyplot as plt\n",
    "import seaborn as sns\n",
    "\n",
    "from sklearn.model_selection import train_test_split\n",
    "from sklearn.impute import SimpleImputer\n",
    "\n",
    "from acquire import AcquireZillow"
   ]
  },
  {
   "cell_type": "markdown",
   "id": "ef3c0a7c-b9de-46f1-afe8-3c514632f431",
   "metadata": {},
   "source": [
    "---\n",
    "\n",
    "## Data Acquisition\n",
    "\n",
    "Here we will acquire the data from the zillow database hosted at data.codeup.com. We are acquiring properties with transaction dates in 2017. Additionally, for any properties with more than one transaction in 2017 we are only acquiring the most recent transaction. Finally, we are acquiring only single unit/single family homes."
   ]
  },
  {
   "cell_type": "code",
   "execution_count": 2,
   "id": "97b7cc16-38db-46bf-bb0a-f4aeff51b1d6",
   "metadata": {},
   "outputs": [],
   "source": [
    "# All the code needed to acquire the data is encapsulated in the acquire.py file using the following parameters.\n",
    "#\n",
    "# Cache file: zillow.csv\n",
    "# Database name: zillow\n",
    "# Hostname: data.codeup.com\n",
    "# \n",
    "# SQL Query:\n",
    "#\n",
    "#         SELECT\n",
    "#             properties_2017.*,\n",
    "#             logerror,\n",
    "#             transactiondate,\n",
    "#             typeconstructiondesc,\n",
    "#             airconditioningdesc,\n",
    "#             architecturalstyledesc,\n",
    "#             buildingclassdesc,\n",
    "#             propertylandusedesc,\n",
    "#             storydesc,\n",
    "#             heatingorsystemdesc\n",
    "#         FROM properties_2017\n",
    "#         JOIN predictions_2017 ON properties_2017.parcelid = predictions_2017.parcelid\n",
    "#             AND predictions_2017.transactiondate LIKE '2017%%'\n",
    "#         LEFT JOIN typeconstructiontype USING (typeconstructiontypeid)\n",
    "#         LEFT JOIN airconditioningtype USING (airconditioningtypeid)\n",
    "#         LEFT JOIN architecturalstyletype USING (architecturalstyletypeid)\n",
    "#         LEFT JOIN buildingclasstype USING (buildingclasstypeid)\n",
    "#         LEFT JOIN propertylandusetype USING (propertylandusetypeid)\n",
    "#         LEFT JOIN storytype USING (storytypeid)\n",
    "#         LEFT JOIN heatingorsystemtype USING (heatingorsystemtypeid)\n",
    "\n",
    "#         JOIN (\n",
    "#             SELECT\n",
    "#                 parcelid,\n",
    "#                 MAX(transactiondate) AS date\n",
    "#             FROM predictions_2017\n",
    "#             GROUP BY parcelid\n",
    "#         ) AS max_dates ON properties_2017.parcelid = max_dates.parcelid\n",
    "#             AND predictions_2017.transactiondate = max_dates.date\n",
    "\n",
    "#         WHERE latitude IS NOT NULL AND longitude IS NOT NULL;\n",
    "\n",
    "zillow = AcquireZillow().get_data()"
   ]
  },
  {
   "cell_type": "code",
   "execution_count": 4,
   "id": "c1bd775b-092c-4e0d-89c8-e79a6e43ef7c",
   "metadata": {},
   "outputs": [
    {
     "data": {
      "text/plain": [
       "(77380, 72)"
      ]
     },
     "execution_count": 4,
     "metadata": {},
     "output_type": "execute_result"
    }
   ],
   "source": [
    "# How many observations do we have? 77380\n",
    "zillow.shape"
   ]
  },
  {
   "cell_type": "code",
   "execution_count": 5,
   "id": "faed28a2-cb14-4066-a958-cc83229e360e",
   "metadata": {},
   "outputs": [
    {
     "name": "stdout",
     "output_type": "stream",
     "text": [
      "<class 'pandas.core.frame.DataFrame'>\n",
      "RangeIndex: 77380 entries, 0 to 77379\n",
      "Data columns (total 72 columns):\n",
      " #   Column                        Non-Null Count  Dtype  \n",
      "---  ------                        --------------  -----  \n",
      " 0   heatingorsystemtypeid         49439 non-null  float64\n",
      " 1   storytypeid                   50 non-null     float64\n",
      " 2   propertylandusetypeid         77380 non-null  float64\n",
      " 3   buildingclasstypeid           15 non-null     float64\n",
      " 4   architecturalstyletypeid      206 non-null    float64\n",
      " 5   airconditioningtypeid         24953 non-null  float64\n",
      " 6   typeconstructiontypeid        222 non-null    float64\n",
      " 7   id                            77380 non-null  int64  \n",
      " 8   parcelid                      77380 non-null  int64  \n",
      " 9   basementsqft                  50 non-null     float64\n",
      " 10  bathroomcnt                   77380 non-null  float64\n",
      " 11  bedroomcnt                    77380 non-null  float64\n",
      " 12  buildingqualitytypeid         49671 non-null  float64\n",
      " 13  calculatedbathnbr             76771 non-null  float64\n",
      " 14  decktypeid                    614 non-null    float64\n",
      " 15  finishedfloor1squarefeet      6023 non-null   float64\n",
      " 16  calculatedfinishedsquarefeet  77184 non-null  float64\n",
      " 17  finishedsquarefeet12          73748 non-null  float64\n",
      " 18  finishedsquarefeet13          41 non-null     float64\n",
      " 19  finishedsquarefeet15          3009 non-null   float64\n",
      " 20  finishedsquarefeet50          6023 non-null   float64\n",
      " 21  finishedsquarefeet6           386 non-null    float64\n",
      " 22  fips                          77380 non-null  float64\n",
      " 23  fireplacecnt                  8276 non-null   float64\n",
      " 24  fullbathcnt                   76771 non-null  float64\n",
      " 25  garagecarcnt                  25474 non-null  float64\n",
      " 26  garagetotalsqft               25474 non-null  float64\n",
      " 27  hashottuborspa                1538 non-null   float64\n",
      " 28  latitude                      77380 non-null  float64\n",
      " 29  longitude                     77380 non-null  float64\n",
      " 30  lotsizesquarefeet             69141 non-null  float64\n",
      " 31  poolcnt                       16137 non-null  float64\n",
      " 32  poolsizesum                   867 non-null    float64\n",
      " 33  pooltypeid10                  464 non-null    float64\n",
      " 34  pooltypeid2                   1074 non-null   float64\n",
      " 35  pooltypeid7                   15042 non-null  float64\n",
      " 36  propertycountylandusecode     77380 non-null  object \n",
      " 37  propertyzoningdesc            50330 non-null  object \n",
      " 38  rawcensustractandblock        77380 non-null  float64\n",
      " 39  regionidcity                  75909 non-null  float64\n",
      " 40  regionidcounty                77380 non-null  float64\n",
      " 41  regionidneighborhood          30890 non-null  float64\n",
      " 42  regionidzip                   77330 non-null  float64\n",
      " 43  roomcnt                       77380 non-null  float64\n",
      " 44  threequarterbathnbr           10096 non-null  float64\n",
      " 45  unitcnt                       50562 non-null  float64\n",
      " 46  yardbuildingsqft17            2388 non-null   float64\n",
      " 47  yardbuildingsqft26            70 non-null     float64\n",
      " 48  yearbuilt                     77117 non-null  float64\n",
      " 49  numberofstories               17560 non-null  float64\n",
      " 50  fireplaceflag                 172 non-null    float64\n",
      " 51  structuretaxvaluedollarcnt    77268 non-null  float64\n",
      " 52  taxvaluedollarcnt             77379 non-null  float64\n",
      " 53  assessmentyear                77380 non-null  float64\n",
      " 54  landtaxvaluedollarcnt         77378 non-null  float64\n",
      " 55  taxamount                     77375 non-null  float64\n",
      " 56  taxdelinquencyflag            2886 non-null   object \n",
      " 57  taxdelinquencyyear            2886 non-null   float64\n",
      " 58  censustractandblock           77136 non-null  float64\n",
      " 59  id                            77380 non-null  int64  \n",
      " 60  parcelid                      77380 non-null  int64  \n",
      " 61  logerror                      77380 non-null  float64\n",
      " 62  transactiondate               77380 non-null  object \n",
      " 63  typeconstructiondesc          222 non-null    object \n",
      " 64  airconditioningdesc           24953 non-null  object \n",
      " 65  architecturalstyledesc        206 non-null    object \n",
      " 66  buildingclassdesc             15 non-null     object \n",
      " 67  propertylandusedesc           77380 non-null  object \n",
      " 68  storydesc                     50 non-null     object \n",
      " 69  heatingorsystemdesc           49439 non-null  object \n",
      " 70  parcelid                      77380 non-null  int64  \n",
      " 71  date                          77380 non-null  object \n",
      "dtypes: float64(55), int64(5), object(12)\n",
      "memory usage: 42.5+ MB\n"
     ]
    }
   ],
   "source": [
    "# Let's see what columns we can drop before moving on to preparation.\n",
    "zillow.info()"
   ]
  },
  {
   "cell_type": "code",
   "execution_count": 6,
   "id": "4fa5b808-e19f-4462-9e71-d21f5a4e3105",
   "metadata": {},
   "outputs": [
    {
     "data": {
      "text/plain": [
       "(77380, 60)"
      ]
     },
     "execution_count": 6,
     "metadata": {},
     "output_type": "execute_result"
    }
   ],
   "source": [
    "# Let's drop all the foreign key id columns, those will be useless to us.\n",
    "drop_columns = [\n",
    "    'heatingorsystemtypeid',\n",
    "    'storytypeid',\n",
    "    'propertylandusetypeid',\n",
    "    'buildingclasstypeid',\n",
    "    'architecturalstyletypeid',\n",
    "    'airconditioningtypeid',\n",
    "    'typeconstructiontypeid',\n",
    "    'id',\n",
    "    'parcelid'\n",
    "]\n",
    "\n",
    "zillow = zillow.drop(columns = drop_columns)\n",
    "zillow.shape"
   ]
  },
  {
   "cell_type": "code",
   "execution_count": 7,
   "id": "f5f84d5c-3077-4f9b-9e3b-f332a4e72bc2",
   "metadata": {},
   "outputs": [
    {
     "name": "stdout",
     "output_type": "stream",
     "text": [
      "<class 'pandas.core.frame.DataFrame'>\n",
      "RangeIndex: 77380 entries, 0 to 77379\n",
      "Data columns (total 60 columns):\n",
      " #   Column                        Non-Null Count  Dtype  \n",
      "---  ------                        --------------  -----  \n",
      " 0   basementsqft                  50 non-null     float64\n",
      " 1   bathroomcnt                   77380 non-null  float64\n",
      " 2   bedroomcnt                    77380 non-null  float64\n",
      " 3   buildingqualitytypeid         49671 non-null  float64\n",
      " 4   calculatedbathnbr             76771 non-null  float64\n",
      " 5   decktypeid                    614 non-null    float64\n",
      " 6   finishedfloor1squarefeet      6023 non-null   float64\n",
      " 7   calculatedfinishedsquarefeet  77184 non-null  float64\n",
      " 8   finishedsquarefeet12          73748 non-null  float64\n",
      " 9   finishedsquarefeet13          41 non-null     float64\n",
      " 10  finishedsquarefeet15          3009 non-null   float64\n",
      " 11  finishedsquarefeet50          6023 non-null   float64\n",
      " 12  finishedsquarefeet6           386 non-null    float64\n",
      " 13  fips                          77380 non-null  float64\n",
      " 14  fireplacecnt                  8276 non-null   float64\n",
      " 15  fullbathcnt                   76771 non-null  float64\n",
      " 16  garagecarcnt                  25474 non-null  float64\n",
      " 17  garagetotalsqft               25474 non-null  float64\n",
      " 18  hashottuborspa                1538 non-null   float64\n",
      " 19  latitude                      77380 non-null  float64\n",
      " 20  longitude                     77380 non-null  float64\n",
      " 21  lotsizesquarefeet             69141 non-null  float64\n",
      " 22  poolcnt                       16137 non-null  float64\n",
      " 23  poolsizesum                   867 non-null    float64\n",
      " 24  pooltypeid10                  464 non-null    float64\n",
      " 25  pooltypeid2                   1074 non-null   float64\n",
      " 26  pooltypeid7                   15042 non-null  float64\n",
      " 27  propertycountylandusecode     77380 non-null  object \n",
      " 28  propertyzoningdesc            50330 non-null  object \n",
      " 29  rawcensustractandblock        77380 non-null  float64\n",
      " 30  regionidcity                  75909 non-null  float64\n",
      " 31  regionidcounty                77380 non-null  float64\n",
      " 32  regionidneighborhood          30890 non-null  float64\n",
      " 33  regionidzip                   77330 non-null  float64\n",
      " 34  roomcnt                       77380 non-null  float64\n",
      " 35  threequarterbathnbr           10096 non-null  float64\n",
      " 36  unitcnt                       50562 non-null  float64\n",
      " 37  yardbuildingsqft17            2388 non-null   float64\n",
      " 38  yardbuildingsqft26            70 non-null     float64\n",
      " 39  yearbuilt                     77117 non-null  float64\n",
      " 40  numberofstories               17560 non-null  float64\n",
      " 41  fireplaceflag                 172 non-null    float64\n",
      " 42  structuretaxvaluedollarcnt    77268 non-null  float64\n",
      " 43  taxvaluedollarcnt             77379 non-null  float64\n",
      " 44  assessmentyear                77380 non-null  float64\n",
      " 45  landtaxvaluedollarcnt         77378 non-null  float64\n",
      " 46  taxamount                     77375 non-null  float64\n",
      " 47  taxdelinquencyflag            2886 non-null   object \n",
      " 48  taxdelinquencyyear            2886 non-null   float64\n",
      " 49  censustractandblock           77136 non-null  float64\n",
      " 50  logerror                      77380 non-null  float64\n",
      " 51  transactiondate               77380 non-null  object \n",
      " 52  typeconstructiondesc          222 non-null    object \n",
      " 53  airconditioningdesc           24953 non-null  object \n",
      " 54  architecturalstyledesc        206 non-null    object \n",
      " 55  buildingclassdesc             15 non-null     object \n",
      " 56  propertylandusedesc           77380 non-null  object \n",
      " 57  storydesc                     50 non-null     object \n",
      " 58  heatingorsystemdesc           49439 non-null  object \n",
      " 59  date                          77380 non-null  object \n",
      "dtypes: float64(48), object(12)\n",
      "memory usage: 35.4+ MB\n"
     ]
    }
   ],
   "source": [
    "# Let's make sure it worked.\n",
    "zillow.info()"
   ]
  },
  {
   "cell_type": "markdown",
   "id": "40f9bc31-80cd-4487-bf73-097289b7d0af",
   "metadata": {},
   "source": [
    "Everything looks good. Let's move on to preparation.\n",
    "\n",
    "---\n",
    "\n",
    "## Data Preparation\n",
    "\n",
    "Now we will begin preparing the data. The goal here is to handle all missing values and split the data to prevent data leakage."
   ]
  },
  {
   "cell_type": "code",
   "execution_count": null,
   "id": "00709f61-ca99-47b8-9b6f-ea788a1a6966",
   "metadata": {},
   "outputs": [],
   "source": []
  }
 ],
 "metadata": {
  "kernelspec": {
   "display_name": "Python 3 (ipykernel)",
   "language": "python",
   "name": "python3"
  },
  "language_info": {
   "codemirror_mode": {
    "name": "ipython",
    "version": 3
   },
   "file_extension": ".py",
   "mimetype": "text/x-python",
   "name": "python",
   "nbconvert_exporter": "python",
   "pygments_lexer": "ipython3",
   "version": "3.9.7"
  }
 },
 "nbformat": 4,
 "nbformat_minor": 5
}
